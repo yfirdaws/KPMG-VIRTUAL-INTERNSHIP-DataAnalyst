{
 "cells": [
  {
   "cell_type": "code",
   "execution_count": 1,
   "metadata": {},
   "outputs": [
    {
     "ename": "ModuleNotFoundError",
     "evalue": "No module named 'Dataprofiler'",
     "output_type": "error",
     "traceback": [
      "\u001b[1;31m---------------------------------------------------------------------------\u001b[0m",
      "\u001b[1;31mModuleNotFoundError\u001b[0m                       Traceback (most recent call last)",
      "\u001b[1;32m<ipython-input-1-4db307064ba2>\u001b[0m in \u001b[0;36m<module>\u001b[1;34m\u001b[0m\n\u001b[0;32m      1\u001b[0m \u001b[1;32mimport\u001b[0m \u001b[0mjson\u001b[0m\u001b[1;33m\u001b[0m\u001b[1;33m\u001b[0m\u001b[0m\n\u001b[1;32m----> 2\u001b[1;33m \u001b[1;32mfrom\u001b[0m \u001b[0mDataprofiler\u001b[0m \u001b[1;32mimport\u001b[0m \u001b[0mData\u001b[0m\u001b[1;33m,\u001b[0m \u001b[0mProfiler\u001b[0m\u001b[1;33m\u001b[0m\u001b[1;33m\u001b[0m\u001b[0m\n\u001b[0m\u001b[0;32m      3\u001b[0m \u001b[1;32mimport\u001b[0m \u001b[0mpandas\u001b[0m \u001b[1;32mas\u001b[0m \u001b[0mpd\u001b[0m\u001b[1;33m\u001b[0m\u001b[1;33m\u001b[0m\u001b[0m\n",
      "\u001b[1;31mModuleNotFoundError\u001b[0m: No module named 'Dataprofiler'"
     ]
    }
   ],
   "source": [
    "import json\n",
    "from dataprofiler import Data, Profiler\n",
    "mport pandas_profiling\n",
    "import pandas as pd"
   ]
  },
  {
   "cell_type": "code",
   "execution_count": null,
   "metadata": {},
   "outputs": [],
   "source": [
    "\n",
    "xls =r'C:\\Users\\yfird\\OneDrive\\Desktop\\KPMG VIRTUAL INTERNSHIP\\KPMG_VI_New_raw_data_update_final.xlsx'\n",
    "data=pd.read_excel(xls,sheet_name='Transactions')\n",
    "df1=pd.read_excel(xls,sheet_name='NewCustomerList')\n",
    "df2=pd.read_excel(xls,sheet_name='CustomerDemographic')\n",
    "df3=pd.read_excel(xls,sheet_name='CustomerAddress')"
   ]
  },
  {
   "cell_type": "code",
   "execution_count": null,
   "metadata": {},
   "outputs": [],
   "source": [
    "#using pandas profiling\n",
    "profile = data.profile_report(title='Pandas Profiling Report')\n",
    "# save the report as html file\n",
    "profile.to_file(output_file=\"pandas_profiling1.html\")\n",
    "# save the report as json file\n",
    "profile.to_file(output_file=\"pandas_profiling2.json\")"
   ]
  },
  {
   "cell_type": "code",
   "execution_count": null,
   "metadata": {},
   "outputs": [],
   "source": [
    "data.columns = data.columns.to_series().replace('Unnamed:\\s\\d+',np.nan,regex=True).ffill().values"
   ]
  },
  {
   "cell_type": "code",
   "execution_count": null,
   "metadata": {},
   "outputs": [],
   "source": [
    "s = data.T.agg(list,1).explode().dropna().to_frame()"
   ]
  },
  {
   "cell_type": "code",
   "execution_count": null,
   "metadata": {},
   "outputs": [
    {
     "data": {
      "text/plain": [
       "medium    12875\n",
       "large      3941\n",
       "small      2824\n",
       "Name: (0, product_size), dtype: int64"
      ]
     },
     "metadata": {},
     "output_type": "display_data"
    }
   ],
   "source": [
    "\n",
    "\n",
    "data =pd.DataFrame(data) # Auto-Detect & Load: CSV, AVRO, Parquet, JSON, Text\n",
    "print(data.data.head(5)) # Access data directly via a compatible Pandas DataFrame\n",
    "\n",
    "profile = Profiler(data) # Calculate Statistics, Entity Recognition, etc\n",
    "readable_report = profile.report(report_options={\"output_format\":\"pretty\"})\n",
    "print(json.dumps(readable_report, indent=4))"
   ]
  }
 ],
 "metadata": {
  "interpreter": {
   "hash": "f4ef7a924b055ec796a9ee2280e0a1483daf93ed56c5f2ffd502dcc580173535"
  },
  "kernelspec": {
   "display_name": "Python 3.7.3 ('base')",
   "language": "python",
   "name": "python3"
  },
  "language_info": {
   "codemirror_mode": {
    "name": "ipython",
    "version": 3
   },
   "file_extension": ".py",
   "mimetype": "text/x-python",
   "name": "python",
   "nbconvert_exporter": "python",
   "pygments_lexer": "ipython3",
   "version": "3.7.3"
  },
  "orig_nbformat": 4
 },
 "nbformat": 4,
 "nbformat_minor": 2
}
